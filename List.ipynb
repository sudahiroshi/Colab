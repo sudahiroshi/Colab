{
  "nbformat": 4,
  "nbformat_minor": 0,
  "metadata": {
    "colab": {
      "name": "List.ipynb のコピー",
      "provenance": []
    },
    "kernelspec": {
      "name": "python3",
      "display_name": "Python 3"
    }
  },
  "cells": [
    {
      "cell_type": "markdown",
      "metadata": {
        "id": "SGf2keRgcnha",
        "colab_type": "text"
      },
      "source": [
        "# listの使い方\n",
        "上から順に動かしてみてlistの使い方を覚える\n",
        "\n",
        "- [Open with Colab](https://colab.research.google.com/github/uemotota/Colab/blob/master/List.ipynb)"
      ]
    },
    {
      "cell_type": "markdown",
      "metadata": {
        "id": "NTo9_pmogUeO",
        "colab_type": "text"
      },
      "source": [
        "## リストとは\n",
        "\n",
        "<説明を載せる>"
      ]
    },
    {
      "cell_type": "markdown",
      "metadata": {
        "id": "iHLAgk9ofBMp",
        "colab_type": "text"
      },
      "source": [
        "### 空のlistを作る\n",
        "\n",
        "空のリストを作って，変数listに代入する"
      ]
    },
    {
      "cell_type": "code",
      "metadata": {
        "id": "rjrHyI28enRR",
        "colab_type": "code",
        "colab": {}
      },
      "source": [
        "list ={}"
      ],
      "execution_count": 0,
      "outputs": []
    },
    {
      "cell_type": "markdown",
      "metadata": {
        "id": "6J_WDpfufAu7",
        "colab_type": "text"
      },
      "source": [
        "### listに値を入れる\n",
        "\n",
        "#### 直接リストに値を入れる方法[辞書型]\n",
        "\n",
        "キーを指定して，値を代入する．"
      ]
    },
    {
      "cell_type": "code",
      "metadata": {
        "id": "w6A0n_ODbYKg",
        "colab_type": "code",
        "colab": {}
      },
      "source": [
        "list[\"aaa\"] = \"あああ\""
      ],
      "execution_count": 0,
      "outputs": []
    },
    {
      "cell_type": "markdown",
      "metadata": {
        "id": "RqbShUYAfAI-",
        "colab_type": "text"
      },
      "source": [
        "#### 変数をキーとして値を入れる方法\n",
        "\n",
        "キーとして変数を使用することもできる．\n",
        "変数に値を入れてからリストに入れる方法[辞書型]"
      ]
    },
    {
      "cell_type": "code",
      "metadata": {
        "id": "po8ywENies-Q",
        "colab_type": "code",
        "colab": {}
      },
      "source": [
        "text1=\"bbb\"\n",
        "text2=\"いいい\"\n",
        "list[text1] = text2"
      ],
      "execution_count": 0,
      "outputs": []
    },
    {
      "cell_type": "markdown",
      "metadata": {
        "id": "k_H6QblJ3i_a",
        "colab_type": "text"
      },
      "source": [
        "### リストからキーを指定して中身を取り出す"
      ]
    },
    {
      "cell_type": "code",
      "metadata": {
        "id": "fdT0ustz3mUd",
        "colab_type": "code",
        "outputId": "6fb6bbb5-1a1f-452d-8020-2285df4a767f",
        "colab": {
          "base_uri": "https://localhost:8080/",
          "height": 34
        }
      },
      "source": [
        "list[\"aaa\"]"
      ],
      "execution_count": 0,
      "outputs": [
        {
          "output_type": "execute_result",
          "data": {
            "text/plain": [
              "'あああ'"
            ]
          },
          "metadata": {
            "tags": []
          },
          "execution_count": 40
        }
      ]
    },
    {
      "cell_type": "markdown",
      "metadata": {
        "id": "mrLNEam9-ZFK",
        "colab_type": "text"
      },
      "source": [
        "## 指定したキーがlistに存在しない場合の注意\n",
        "\n",
        "listが，指定したキー要素を持っていないとエラーになってしまう"
      ]
    },
    {
      "cell_type": "code",
      "metadata": {
        "id": "srSjLl9u8uZe",
        "colab_type": "code",
        "colab": {}
      },
      "source": [
        "list[\"ccc\"]"
      ],
      "execution_count": 0,
      "outputs": []
    },
    {
      "cell_type": "markdown",
      "metadata": {
        "id": "zxYbmATT9qUd",
        "colab_type": "text"
      },
      "source": [
        "キーが存在するかどうか怪しい場合は，getメソッドを使用すると良い．キーが存在しないときにはNoneを返す"
      ]
    },
    {
      "cell_type": "code",
      "metadata": {
        "id": "YO-nihfP90As",
        "colab_type": "code",
        "colab": {}
      },
      "source": [
        "list.get(\"ccc\")"
      ],
      "execution_count": 0,
      "outputs": []
    },
    {
      "cell_type": "markdown",
      "metadata": {
        "id": "45rBNxI4qKKJ",
        "colab_type": "text"
      },
      "source": [
        "## 文字列\n",
        "\n",
        "他のプログラム言語と同じように，文字列を使用できます．\n",
        "\n",
        "1. 文字列の書式"
      ]
    },
    {
      "cell_type": "code",
      "metadata": {
        "id": "xihafKIHqJVl",
        "colab_type": "code",
        "outputId": "311aa46a-35f2-4543-f394-e4c4a1dfbe9b",
        "colab": {
          "base_uri": "https://localhost:8080/",
          "height": 34
        }
      },
      "source": [
        "\"文字列の例\""
      ],
      "execution_count": 0,
      "outputs": [
        {
          "output_type": "execute_result",
          "data": {
            "text/plain": [
              "'文字列の例'"
            ]
          },
          "metadata": {
            "tags": []
          },
          "execution_count": 1
        }
      ]
    },
    {
      "cell_type": "markdown",
      "metadata": {
        "id": "UziiBA6Pqt2M",
        "colab_type": "text"
      },
      "source": [
        "2. 文字列の表示\n",
        "\n",
        "表示にはprintを使用します．複数の要素を1行で表示したい場合はカンマで結合します．また，文字列同士を結合して表示したい場合は，+で結合してから表示することで，スペース無しで表示することもできます．"
      ]
    },
    {
      "cell_type": "code",
      "metadata": {
        "id": "rytPu88Aq00r",
        "colab_type": "code",
        "outputId": "defed7be-5147-43c6-d591-8becd0e1c7ab",
        "colab": {
          "base_uri": "https://localhost:8080/",
          "height": 68
        }
      },
      "source": [
        "print( \"前半\",\"後半\" )  # カンマで結合可能\n",
        "print( \"前半\"+\"後半\" )  # 文字列同士を結合してから表示すると間がつまります\n",
        "print( \"数値\",100 ) # 文字列と数値を一緒に表示したい場合はカンマを使います"
      ],
      "execution_count": 0,
      "outputs": [
        {
          "output_type": "stream",
          "text": [
            "前半 後半\n",
            "前半後半\n",
            "数値 100\n"
          ],
          "name": "stdout"
        }
      ]
    },
    {
      "cell_type": "markdown",
      "metadata": {
        "id": "7oOFDrnBvKpT",
        "colab_type": "text"
      },
      "source": [
        "3. 文字列同士の比較\n",
        "\n",
        "C言語やJava言語と違って，文字列の比較に==を使用します．以下の例では，==の左右の内容が違うのでFalseが返されます．\n",
        "\n",
        "実行後，==の右辺を変更して同じ文字列にしてTrueが返ることを確認しましょう．"
      ]
    },
    {
      "cell_type": "code",
      "metadata": {
        "id": "3_ROo2GgwARd",
        "colab_type": "code",
        "outputId": "c5025870-b803-4f7e-e57d-804df411a784",
        "colab": {
          "base_uri": "https://localhost:8080/",
          "height": 34
        }
      },
      "source": [
        "\"文字列\" == \"文字列\""
      ],
      "execution_count": 0,
      "outputs": [
        {
          "output_type": "execute_result",
          "data": {
            "text/plain": [
              "True"
            ]
          },
          "metadata": {
            "tags": []
          },
          "execution_count": 9
        }
      ]
    },
    {
      "cell_type": "markdown",
      "metadata": {
        "id": "ftaZJrUUwch_",
        "colab_type": "text"
      },
      "source": [
        "比較した結果（True / False）を表示してみます．当然，変数と文字列を比較することもできます．"
      ]
    },
    {
      "cell_type": "code",
      "metadata": {
        "id": "GOwLPCWtvnpO",
        "colab_type": "code",
        "outputId": "ea88204d-f6d6-4116-ea32-fb4a166aa9da",
        "colab": {
          "base_uri": "https://localhost:8080/",
          "height": 85
        }
      },
      "source": [
        "print( 1, \"あああ\" == \"あああ\" )\n",
        "print( 2, \"aaa\" == \"AAA\" )\n",
        "print( 3, \"あいうえお\" == \"かきくけこ\" )\n",
        "str1 = \"あいうえお\"\n",
        "print( 4, str1 == \"あいうえお\" )"
      ],
      "execution_count": 0,
      "outputs": [
        {
          "output_type": "stream",
          "text": [
            "1 True\n",
            "2 False\n",
            "3 False\n",
            "4 True\n"
          ],
          "name": "stdout"
        }
      ]
    },
    {
      "cell_type": "markdown",
      "metadata": {
        "colab_type": "text",
        "id": "ZGG1Oous__Xr"
      },
      "source": [
        "####・使用例『リストに格納されている値と比較する』"
      ]
    },
    {
      "cell_type": "markdown",
      "metadata": {
        "id": "DKqC3V551z_1",
        "colab_type": "text"
      },
      "source": [
        "格納されている値と比べる値（別の値でも確かめてください）"
      ]
    },
    {
      "cell_type": "code",
      "metadata": {
        "colab_type": "code",
        "id": "qKbQJOt9-uV-",
        "colab": {}
      },
      "source": [
        "text_1=\"aaa\"\n",
        "text_2=\"あああ\""
      ],
      "execution_count": 0,
      "outputs": []
    },
    {
      "cell_type": "markdown",
      "metadata": {
        "id": "9c80rPnIAVa3",
        "colab_type": "text"
      },
      "source": [
        "・共通しないキーと比較可能性があるときgetをつけるとエラーにならなくなる"
      ]
    },
    {
      "cell_type": "code",
      "metadata": {
        "id": "BD_ui4PcAWRX",
        "colab_type": "code",
        "colab": {}
      },
      "source": [
        "if( list.get(text_1) == text_2 ):\n",
        "  print(\"一致しました\")\n",
        "else:\n",
        "  print(\"存在しません\")"
      ],
      "execution_count": 0,
      "outputs": []
    },
    {
      "cell_type": "markdown",
      "metadata": {
        "id": "8Q1qnKZYe_ij",
        "colab_type": "text"
      },
      "source": [
        "####『listの中身を表示させる』\n",
        "・「key」にリスト型変数「list」の最初から順に１つずつ代入して「list」の要素が最後までループしたら終了する"
      ]
    },
    {
      "cell_type": "code",
      "metadata": {
        "id": "4ld_y5LPcNF3",
        "colab_type": "code",
        "colab": {}
      },
      "source": [
        "for key in list:\n",
        "  print(key + \":\" + list[key])"
      ],
      "execution_count": 0,
      "outputs": []
    }
  ]
}
